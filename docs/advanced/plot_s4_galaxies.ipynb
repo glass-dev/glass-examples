{
  "cells": [
    {
      "cell_type": "markdown",
      "metadata": {},
      "source": [
        "\n# Stage IV Galaxy Survey\n\nThis example simulates a galaxy catalogue from a Stage IV Space Satellite Galaxy\nSurvey such as *Euclid* and *Roman* combining the :doc:`/basic/plot_density` and\n:doc:`/basic/plot_lensing` examples with galaxy ellipticities and galaxy shears,\nas well as using some auxiliary functions.\n\nThe focus in this example is mock catalogue generation using auxiliary functions\nbuilt for simulating Stage IV galaxy surveys.\n"
      ]
    },
    {
      "cell_type": "markdown",
      "metadata": {},
      "source": [
        "## Setup\nThe setup is essentially the same as in the :doc:`/advanced/plot_shears`\nexample.\n\nIn addition to a generator for intrinsic galaxy ellipticities,\nfollowing a normal distribution, we also show how to use auxiliary functions\nto generate tomographic redshift distributions and visibility masks.\n\nFinally, there is a generator that applies the reduced shear from the lensing\nmaps to the intrinsic ellipticities, producing the galaxy shears.\n\n"
      ]
    },
    {
      "cell_type": "code",
      "execution_count": null,
      "metadata": {
        "collapsed": false
      },
      "outputs": [],
      "source": [
        "import numpy as np\nimport healpy as hp\nimport matplotlib.pyplot as plt\n\n# use the CAMB cosmology that generated the matter power spectra\nimport camb\nfrom cosmology import Cosmology\n\n# GLASS modules: cosmology and everything in the glass namespace\nimport glass.shells\nimport glass.fields\nimport glass.points\nimport glass.shapes\nimport glass.lensing\nimport glass.galaxies\nimport glass.observations\nimport glass.ext.camb\n\n\n# cosmology for the simulation\nh = 0.7\nOc = 0.25\nOb = 0.05\n\n# basic parameters of the simulation\nnside = lmax = 256\n\n# set up CAMB parameters for matter angular power spectrum\npars = camb.set_params(H0=100*h, omch2=Oc*h**2, ombh2=Ob*h**2,\n                       NonLinear=camb.model.NonLinear_both)\n\n# get the cosmology from CAMB\ncosmo = Cosmology.from_camb(pars)"
      ]
    },
    {
      "cell_type": "markdown",
      "metadata": {},
      "source": [
        "Set up the matter sector.\n\n"
      ]
    },
    {
      "cell_type": "code",
      "execution_count": null,
      "metadata": {
        "collapsed": false
      },
      "outputs": [],
      "source": [
        "# shells of 200 Mpc in comoving distance spacing\nzb = glass.shells.distance_grid(cosmo, 0., 3., dx=200.)\n\n# tophat window functions for shells\nws = glass.shells.tophat_windows(zb)\n\n# compute the angular matter power spectra of the shells with CAMB\ncls = glass.ext.camb.matter_cls(pars, lmax, ws)\n\n# compute Gaussian cls for lognormal fields for 3 correlated shells\n# putting nside here means that the HEALPix pixel window function is applied\ngls = glass.fields.lognormal_gls(cls, nside=nside, lmax=lmax, ncorr=3)\n\n# generator for lognormal matter fields\nmatter = glass.fields.generate_lognormal(gls, nside, ncorr=3)"
      ]
    },
    {
      "cell_type": "markdown",
      "metadata": {},
      "source": [
        "Set up the lensing sector.\n\n"
      ]
    },
    {
      "cell_type": "code",
      "execution_count": null,
      "metadata": {
        "collapsed": false
      },
      "outputs": [],
      "source": [
        "# this will compute the convergence field iteratively\nconvergence = glass.lensing.MultiPlaneConvergence(cosmo)"
      ]
    },
    {
      "cell_type": "markdown",
      "metadata": {},
      "source": [
        "Set up the galaxies sector.\n\n"
      ]
    },
    {
      "cell_type": "code",
      "execution_count": null,
      "metadata": {
        "collapsed": false
      },
      "outputs": [],
      "source": [
        "# galaxy density (using 1/100 of the expected galaxy number density for Stage-IV)\nn_arcmin2 = 0.3\n\n# true redshift distribution following a Smail distribution\nz = np.arange(0., 3., 0.01)\ndndz = glass.observations.smail_nz(z, z_mode=0.9, alpha=2., beta=1.5)\ndndz *= n_arcmin2\n\n# compute tomographic redshift bin edges with equal density\nnbins = 10\nzbins = glass.observations.equal_dens_zbins(z, dndz, nbins=nbins)\n\n# photometric redshift error\nsigma_z0 = 0.03\n\n# constant bias parameter for all shells\nbias = 1.2\n\n# ellipticity standard deviation as expected for a Stage-IV survey\nsigma_e = 0.27"
      ]
    },
    {
      "cell_type": "markdown",
      "metadata": {},
      "source": [
        "Make a visibility map typical of a space telescope survey, seeing both\nhemispheres, and low visibility in the galactic and ecliptic bands.\n\n"
      ]
    },
    {
      "cell_type": "code",
      "execution_count": null,
      "metadata": {
        "collapsed": false
      },
      "outputs": [],
      "source": [
        "vis = glass.observations.vmap_galactic_ecliptic(nside)\n\n# checking the mask:\nhp.mollview(vis, title='Stage IV Space Survey-like Mask', unit='Visibility')\nplt.show()"
      ]
    },
    {
      "cell_type": "markdown",
      "metadata": {},
      "source": [
        "## Simulation\nSimulate the galaxies with shears.  In each iteration, get the quantities of\ninterest to build our mock catalogue.\n\n"
      ]
    },
    {
      "cell_type": "code",
      "execution_count": null,
      "metadata": {
        "collapsed": false
      },
      "outputs": [],
      "source": [
        "# we will store the catalogue as a structured numpy array, initially empty\ncatalogue = np.empty(0, dtype=[('RA', float), ('DEC', float),\n                               ('Z_TRUE', float), ('PHZ', float), ('ZBIN', int),\n                               ('G1', float), ('G2', float)])\n\n# simulate the matter fields in the main loop, and build up the catalogue\nfor i, delta_i in enumerate(matter):\n\n    # compute the lensing maps for this shell\n    convergence.add_window(delta_i, ws[i])\n    kappa_i = convergence.kappa\n    gamm1_i, gamm2_i = glass.lensing.shear_from_convergence(kappa_i)\n\n    # the true galaxy distribution in this shell\n    z_i, dndz_i = glass.shells.restrict(z, dndz, ws[i])\n\n    # integrate dndz to get the total galaxy density in this shell\n    ngal = np.trapz(dndz_i, z_i)\n\n    # generate galaxy positions from the matter density contrast\n    for gal_lon, gal_lat, gal_count in glass.points.positions_from_delta(ngal, delta_i, bias, vis):\n\n        # generate random redshifts from the provided nz\n        gal_z = glass.galaxies.redshifts_from_nz(gal_count, z_i, dndz_i)\n\n        # generator photometric redshifts using a Gaussian model\n        gal_phz = glass.galaxies.gaussian_phz(gal_z, sigma_z0)\n\n        # attach tomographic bin IDs to galaxies, based on photometric redshifts\n        gal_zbin = np.digitize(gal_phz, np.unique(zbins)) - 1\n\n        # generate galaxy ellipticities from the chosen distribution\n        gal_eps = glass.shapes.ellipticity_intnorm(gal_count, sigma_e)\n\n        # apply the shear fields to the ellipticities\n        gal_she = glass.galaxies.galaxy_shear(gal_lon, gal_lat, gal_eps,\n                                              kappa_i, gamm1_i, gamm2_i)\n\n        # make a mini-catalogue for the new rows\n        rows = np.empty(gal_count, dtype=catalogue.dtype)\n        rows['RA'] = gal_lon\n        rows['DEC'] = gal_lat\n        rows['Z_TRUE'] = gal_z\n        rows['PHZ'] = gal_phz\n        rows['ZBIN'] = gal_zbin\n        rows['G1'] = gal_she.real\n        rows['G2'] = gal_she.imag\n\n        # add the new rows to the catalogue\n        catalogue = np.append(catalogue, rows)\n\nprint(f'Total number of galaxies sampled: {len(catalogue):,}')"
      ]
    },
    {
      "cell_type": "markdown",
      "metadata": {},
      "source": [
        "## Catalogue checks\nHere we can perform some simple checks at the catalogue level to\nsee how our simulation performed.\n\n"
      ]
    },
    {
      "cell_type": "code",
      "execution_count": null,
      "metadata": {
        "collapsed": false
      },
      "outputs": [],
      "source": [
        "# split dndz using the same Gaussian error model assumed in the sampling\ntomo_nz = glass.observations.tomo_nz_gausserr(z, dndz, sigma_z0, zbins)\n\n# redshift distribution of tomographic bins & input distributions\nplt.figure()\nplt.title('redshifts in catalogue')\nplt.ylabel('dN/dz - normalised')\nplt.xlabel('z')\nfor i in range(nbins):\n    in_bin = (catalogue['ZBIN'] == i)\n    plt.hist(catalogue['Z_TRUE'][in_bin], histtype='stepfilled', edgecolor='none', alpha=0.5, bins=50, density=1, label=f'cat. bin {i}')\nfor i in range(nbins):\n    plt.plot(z, (tomo_nz[i]/n_arcmin2)*nbins, alpha=0.5, label=f'inp. bin {i}')\nplt.plot(z, dndz/n_arcmin2*nbins, ls='--', c='k')\nplt.legend(ncol=2)\nplt.show()"
      ]
    }
  ],
  "metadata": {
    "kernelspec": {
      "display_name": "Python 3",
      "language": "python",
      "name": "python3"
    },
    "language_info": {
      "codemirror_mode": {
        "name": "ipython",
        "version": 3
      },
      "file_extension": ".py",
      "mimetype": "text/x-python",
      "name": "python",
      "nbconvert_exporter": "python",
      "pygments_lexer": "ipython3",
      "version": "3.8.16"
    }
  },
  "nbformat": 4,
  "nbformat_minor": 0
}