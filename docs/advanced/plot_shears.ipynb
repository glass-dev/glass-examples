{
  "cells": [
    {
      "cell_type": "markdown",
      "metadata": {},
      "source": [
        "\n# Galaxy shear\n\nThis example simulates a galaxy catalogue with shears affected by weak lensing,\ncombining the :doc:`/basic/plot_density` and :doc:`/basic/plot_lensing` examples\nwith generators for the intrinsic galaxy ellipticity and the resulting shear.\n"
      ]
    },
    {
      "cell_type": "markdown",
      "metadata": {},
      "source": [
        "## Setup\nThe setup of galaxies and weak lensing fields is the same as in the basic\nexamples.  We reuse the precomputed angular matter power spectra from the\n:doc:`/basic/shells` example, and we set up the same CAMB cosmology to obtain\nthe ``cosmo`` object.\n\n"
      ]
    },
    {
      "cell_type": "code",
      "execution_count": null,
      "metadata": {
        "collapsed": false
      },
      "outputs": [],
      "source": [
        "import numpy as np\nimport healpy as hp\nimport matplotlib.pyplot as plt\n\n# use the CAMB cosmology that generated the matter power spectra\nimport camb\nfrom cosmology import Cosmology\n\n# GLASS modules: cosmology and everything in the glass namespace\nimport glass.shells\nimport glass.fields\nimport glass.points\nimport glass.shapes\nimport glass.lensing\nimport glass.galaxies\nfrom glass.core.constants import ARCMIN2_SPHERE\n\n\n# cosmology for the simulation\nh = 0.7\nOc = 0.25\nOb = 0.05\n\n# basic parameters of the simulation\nnside = lmax = 256\n\n# set up CAMB parameters for matter angular power spectrum\npars = camb.set_params(H0=100*h, omch2=Oc*h**2, ombh2=Ob*h**2,\n                       NonLinear=camb.model.NonLinear_both)\n\n# get the cosmology from CAMB\ncosmo = Cosmology.from_camb(pars)\n\n# shells of 200 Mpc in comoving distance spacing\nzb = glass.shells.distance_grid(cosmo, 0., 1., dx=200.)\n\n# tophat window function for shells\nws = glass.shells.tophat_windows(zb)\n\n# load the angular matter power spectra previously computed with CAMB\ncls = np.load('../basic/cls.npy')"
      ]
    },
    {
      "cell_type": "markdown",
      "metadata": {},
      "source": [
        "## Matter\n\n"
      ]
    },
    {
      "cell_type": "code",
      "execution_count": null,
      "metadata": {
        "collapsed": false
      },
      "outputs": [],
      "source": [
        "# compute Gaussian cls for lognormal fields for 3 correlated shells\n# putting nside here means that the HEALPix pixel window function is applied\ngls = glass.fields.lognormal_gls(cls, nside=nside, lmax=lmax, ncorr=3)\n\n# generator for lognormal matter fields\nmatter = glass.fields.generate_lognormal(gls, nside, ncorr=3)"
      ]
    },
    {
      "cell_type": "markdown",
      "metadata": {},
      "source": [
        "## Lensing\n\n"
      ]
    },
    {
      "cell_type": "code",
      "execution_count": null,
      "metadata": {
        "collapsed": false
      },
      "outputs": [],
      "source": [
        "# this will compute the convergence field iteratively\nconvergence = glass.lensing.MultiPlaneConvergence(cosmo)"
      ]
    },
    {
      "cell_type": "markdown",
      "metadata": {},
      "source": [
        "## Galaxy\n\n"
      ]
    },
    {
      "cell_type": "code",
      "execution_count": null,
      "metadata": {
        "collapsed": false
      },
      "outputs": [],
      "source": [
        "# standard deviation in each component of galaxy ellipticity\n# this is very small so that the galaxy density can be small, too\nsigma_e = 0.01\n\n# galaxy number density per arcmin2, over all shells\nn_arcmin2 = 0.01\n\n# localised redshift distribution with the given density\nz = np.arange(0., 2., 0.01)\ndndz = np.exp(-(z - 0.5)**2/(0.1)**2)\ndndz *= n_arcmin2/np.trapz(dndz, z)"
      ]
    },
    {
      "cell_type": "markdown",
      "metadata": {},
      "source": [
        "## Simulation\nSimulate the galaxies with shears.  In each iteration, get the shears and map\nthem to a HEALPix map for later analysis.\n\nIn addition, generate the galaxy ellipticities, drawn from the intrinsic\nnormal distribution.  The standard deviation is much too small to be\nrealistic, but enables the example to get away with fewer total galaxies.\n\nFinally, apply the reduced shear from the lensing maps to the galaxy\nellipticities, producing the galaxy shears.\n\n"
      ]
    },
    {
      "cell_type": "code",
      "execution_count": null,
      "metadata": {
        "collapsed": false
      },
      "outputs": [],
      "source": [
        "# number of HEALPix pixels in the maps\nnpix = 12*nside**2\n\n# map for galaxy numbers\nnum = np.zeros(npix)\n\n# map for sum of shears\nshe = np.zeros(npix, dtype=complex)\n\n# simulate the matter fields in the main loop\nfor i, delta_i in enumerate(matter):\n\n    # compute the lensing maps for this shell\n    convergence.add_window(delta_i, ws[i])\n    kappa_i = convergence.kappa\n    gamm1_i, gamm2_i = glass.lensing.shear_from_convergence(kappa_i)\n\n    # true galaxy redshift distribution in this shell\n    z_i, dndz_i = glass.shells.restrict(z, dndz, ws[i])\n\n    # galaxy density in this shell\n    ngal = np.trapz(dndz_i, z_i)\n\n    # generate galaxy positions uniformly over the sphere\n    for gal_lon, gal_lat, gal_count in glass.points.uniform_positions(ngal):\n\n        # generate galaxy ellipticities from the chosen distribution\n        gal_eps = glass.shapes.ellipticity_intnorm(gal_count, sigma_e)\n\n        # apply the shear fields to the ellipticities\n        gal_she = glass.galaxies.galaxy_shear(gal_lon, gal_lat, gal_eps,\n                                            kappa_i, gamm1_i, gamm2_i)\n\n        # map the galaxy shears to a HEALPix map; this is opaque but works\n        gal_pix = hp.ang2pix(nside, gal_lon, gal_lat, lonlat=True)\n        s = np.argsort(gal_pix)\n        pix, start, count = np.unique(gal_pix[s], return_index=True, return_counts=True)\n        num[pix] += count\n        she[pix] += list(map(np.sum, np.split(gal_she[s], start[1:])))"
      ]
    },
    {
      "cell_type": "markdown",
      "metadata": {},
      "source": [
        "## Analysis\nCompute the angular power spectrum of the observed galaxy shears.  To compare\nwith the expectation, take into account the expected noise level due to shape\nnoise, and the expected mixing matrix for a uniform distribution of points.\n\n"
      ]
    },
    {
      "cell_type": "code",
      "execution_count": null,
      "metadata": {
        "collapsed": false
      },
      "outputs": [],
      "source": [
        "# compute the expected number of galaxies in each pixel\nnbar = ARCMIN2_SPHERE/npix*n_arcmin2\n\n# normalise the maps by the expected number of galaxies in each pixel\nshe /= nbar\nnum /= nbar\n\n# get the angular power spectra from the galaxy shears\ncls = hp.anafast([num, she.real, she.imag], pol=True, lmax=lmax, use_pixel_weights=True)\n\n# get the theory cls from CAMB\npars.NonLinear = 'NonLinear_both'\npars.Want_CMB = False\npars.min_l = 1\npars.set_for_lmax(lmax)\npars.SourceWindows = [camb.sources.SplinedSourceWindow(z=z, W=dndz, source_type='lensing')]\ntheory_cls = camb.get_results(pars).get_source_cls_dict(lmax=lmax, raw_cl=True)\n\n# factor transforming convergence to shear\nl = np.arange(lmax+1)\nfl = (l+2)*(l+1)*l*(l-1)/np.clip(l**2*(l+1)**2, 1, None)\n\n# the noise level from discrete observations with shape noise\nnl = 4*np.pi/(nbar*npix)*sigma_e**2 * (l >= 2)\n\n# mixing matrix for uniform distribution of points\nmm = (1 - 1/(nbar*npix))*np.eye(lmax+1, lmax+1) + (l+1/2)/(nbar*npix)\nmm[:2, :] = mm[:, :2] = 0\n\n# the shear pixel window function for HEALPix\n_, pw = hp.pixwin(nside, lmax=lmax, pol=True)\n\n# plot the realised and expected cls\nplt.plot(l, cls[1] - nl, '-k', lw=2, label='simulation')\nplt.plot(l, pw**2 * mm@(fl*theory_cls['W1xW1']), '-r', lw=2, label='expectation')\nplt.xscale('symlog', linthresh=10, linscale=0.5, subs=[2, 3, 4, 5, 6, 7, 8, 9])\nplt.yscale('symlog', linthresh=1e-9, linscale=0.5, subs=[2, 3, 4, 5, 6, 7, 8, 9])\nplt.xlabel('angular mode number $l$')\nplt.ylabel('angular power spectrum $C_l^{EE}$')\nplt.legend(frameon=False)\nplt.tight_layout()\nplt.show()"
      ]
    }
  ],
  "metadata": {
    "kernelspec": {
      "display_name": "Python 3",
      "language": "python",
      "name": "python3"
    },
    "language_info": {
      "codemirror_mode": {
        "name": "ipython",
        "version": 3
      },
      "file_extension": ".py",
      "mimetype": "text/x-python",
      "name": "python",
      "nbconvert_exporter": "python",
      "pygments_lexer": "ipython3",
      "version": "3.8.16"
    }
  },
  "nbformat": 4,
  "nbformat_minor": 0
}