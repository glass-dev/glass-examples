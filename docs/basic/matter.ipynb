{
  "cells": [
    {
      "cell_type": "markdown",
      "metadata": {},
      "source": [
        "\n# Matter distribution\n\nThis example simulates only the matter field in nested shells up to redshift 1.\n"
      ]
    },
    {
      "cell_type": "markdown",
      "metadata": {},
      "source": [
        "## Setup\nSet up a matter-only GLASS simulation, which requires angular matter power\nspectra and the sampling itself (here: lognormal).\n\nUses the saved angular matter power spectra from the :doc:`/basic/shells`\nexample.\n\n"
      ]
    },
    {
      "cell_type": "code",
      "execution_count": null,
      "metadata": {
        "collapsed": false
      },
      "outputs": [],
      "source": [
        "import numpy as np\nimport healpy as hp\nimport matplotlib.pyplot as plt\n\n# uses the CAMB cosmology which produced the cls\nimport camb\nfrom cosmology import Cosmology\n\n# these are the GLASS imports: matter and random fields\nimport glass.shells\nimport glass.fields\n\n\n# cosmology for the simulation\nh = 0.7\nOc = 0.25\nOb = 0.05\n\n# basic parameters of the simulation\nnside = 1024\nlmax = 1000\n\n# set up CAMB parameters for matter angular power spectrum\npars = camb.set_params(H0=100*h, omch2=Oc*h**2, ombh2=Ob*h**2,\n                       NonLinear=camb.model.NonLinear_both)\n\n# get the cosmology from CAMB\ncosmo = Cosmology.from_camb(pars)\n\n# shells of 200 Mpc in comoving distance spacing\nzb = glass.shells.distance_grid(cosmo, 0., 1., dx=200.)\n\n# load precomputed angular matter power spectra\ncls = np.load('cls.npy')\n\n# compute Gaussian cls for lognormal fields with 3 correlated shells\ngls = glass.fields.lognormal_gls(cls, ncorr=3, nside=nside)\n\n# this generator will yield the matter fields in each shell\nmatter = glass.fields.generate_lognormal(gls, nside, ncorr=3)"
      ]
    },
    {
      "cell_type": "markdown",
      "metadata": {},
      "source": [
        "## Simulation\nRun the simulation.  For each shell, plot an orthographic annulus of the\nmatter distribution.\n\n"
      ]
    },
    {
      "cell_type": "code",
      "execution_count": null,
      "metadata": {
        "collapsed": false
      },
      "outputs": [],
      "source": [
        "# make a 2d grid in redshift\nn = 2000\nzend = 1.05*zb[-1]\nx, y = np.mgrid[-zend:zend:1j*n, -zend:zend:1j*n]\nz = np.hypot(x, y)\ngrid = np.full(z.shape, np.nan)\n\n# set up the plot\nax = plt.subplot(111)\nax.axis('off')\n\n# simulate and project an annulus of each matter shell onto the grid\nfor i, delta_i in enumerate(matter):\n    zmin, zmax = zb[i], zb[i+1]\n    g = (zmin <= z) & (z < zmax)\n    zg = np.sqrt(1 - (z[g]/zmax)**2)\n    theta, phi = hp.vec2ang(np.transpose([x[g]/zmax, y[g]/zmax, zg]))\n    grid[g] = hp.get_interp_val(delta_i, theta, phi)\n    ax.add_patch(plt.Circle((0, 0), zmax/zend, fc='none', ec='k', lw=0.5, alpha=0.5, zorder=1))\n\n# show the grid of shells\nax.imshow(grid, extent=[-1, 1, -1, 1], zorder=0,\n          cmap='bwr', vmin=-2, vmax=2)\n\n# show the resulting plot\nplt.show()"
      ]
    }
  ],
  "metadata": {
    "kernelspec": {
      "display_name": "Python 3",
      "language": "python",
      "name": "python3"
    },
    "language_info": {
      "codemirror_mode": {
        "name": "ipython",
        "version": 3
      },
      "file_extension": ".py",
      "mimetype": "text/x-python",
      "name": "python",
      "nbconvert_exporter": "python",
      "pygments_lexer": "ipython3",
      "version": "3.12.2"
    }
  },
  "nbformat": 4,
  "nbformat_minor": 0
}