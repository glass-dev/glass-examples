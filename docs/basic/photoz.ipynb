{
  "cells": [
    {
      "cell_type": "markdown",
      "metadata": {},
      "source": [
        "\n# Photometric redshifts\n\nThis example simulates galaxies with a simple photometric redshift model.\n"
      ]
    },
    {
      "cell_type": "markdown",
      "metadata": {},
      "source": [
        "## Setup\nThe simplest galaxies-only GLASS simulation, sampling galaxies using some\nredshift distribution.  Then add a model for photometric redshifts with\nGaussian errors.\n\n"
      ]
    },
    {
      "cell_type": "code",
      "execution_count": null,
      "metadata": {
        "collapsed": false
      },
      "outputs": [],
      "source": [
        "import numpy as np\nimport matplotlib.pyplot as plt\n\n# GLASS imports: matter shells, galaxies, random points, and observational\nimport glass.galaxies\nimport glass.observations\n\n# how many arcmin2 over the entire sphere\nfrom glass.core.constants import ARCMIN2_SPHERE\n\n\n# galaxy density\nn_arcmin2 = 1e-4\n\n# photometric redshift error at redshift 0\nphz_sigma_0 = 0.05\n\n# parametric galaxy redshift distribution\nz = np.linspace(0, 3, 301)\ndndz = n_arcmin2 * glass.observations.smail_nz(z, 1.0, 2.2, 1.5)\n\n# compute the over galaxy number density on the sphere\nngal = np.trapz(dndz, z)"
      ]
    },
    {
      "cell_type": "markdown",
      "metadata": {},
      "source": [
        "## Simulation\nSimulate true and photometric redshifts.\n\n"
      ]
    },
    {
      "cell_type": "code",
      "execution_count": null,
      "metadata": {
        "collapsed": false
      },
      "outputs": [],
      "source": [
        "# sample the number (not density) of galaxies from the Poisson distribution\nn = np.random.poisson(ngal * ARCMIN2_SPHERE)\n\n# sample n true redshifts\nztrue = glass.galaxies.redshifts_from_nz(n, z, dndz)\n\n# sample n photometric redshifts\nzphot = glass.galaxies.gaussian_phz(ztrue, phz_sigma_0)"
      ]
    },
    {
      "cell_type": "markdown",
      "metadata": {},
      "source": [
        "## Plots\nMake a couple of typical photometric redshift plots.\n\nFirst the $z$-vs-$z$ plot across the entire sample.  The simple\nGaussian error model only has the diagonal but no catastrophic outliers.\n\n"
      ]
    },
    {
      "cell_type": "code",
      "execution_count": null,
      "metadata": {
        "collapsed": false
      },
      "outputs": [],
      "source": [
        "plt.figure(figsize=(5, 5))\nplt.plot(ztrue, zphot, '+k', ms=3, alpha=0.1)\nplt.xlabel(r'$z_{\\rm true}$', size=12)\nplt.ylabel(r'$z_{\\rm phot}$', size=12)\nplt.show()"
      ]
    },
    {
      "cell_type": "markdown",
      "metadata": {},
      "source": [
        "Now define a number of photometric redshift bins.  They are chosen by the\n:func:`~glass.observations.equal_dens_zbins` function to produce the same\nnumber of galaxies in each bin.\n\n"
      ]
    },
    {
      "cell_type": "code",
      "execution_count": null,
      "metadata": {
        "collapsed": false
      },
      "outputs": [],
      "source": [
        "nbins = 5\nzbins = glass.observations.equal_dens_zbins(z, dndz, nbins)"
      ]
    },
    {
      "cell_type": "markdown",
      "metadata": {},
      "source": [
        "After the photometric bins are defined, make histograms of the *true* redshift\ndistribution $n(z)$ using the *photometric* redshifts for binning.  Use\nthe :func:`~glass.observations.tomo_nz_gausserr()` function to also plot the\nexpected tomographic redshift distributions with the same model.\n\n"
      ]
    },
    {
      "cell_type": "code",
      "execution_count": null,
      "metadata": {
        "collapsed": false
      },
      "outputs": [],
      "source": [
        "tomo_nz = glass.observations.tomo_nz_gausserr(z, dndz, phz_sigma_0, zbins)\ntomo_nz *= ARCMIN2_SPHERE*(z[-1] - z[0])/40\n\nfor (z1, z2), nz in zip(zbins, tomo_nz):\n    plt.hist(ztrue[(z1 <= zphot) & (zphot < z2)], bins=40, range=(z[0], z[-1]),\n             histtype='stepfilled', alpha=0.5)\n    plt.plot(z, nz, '-k', lw=1, alpha=0.5)\nplt.xlabel('true redshift $z$')\nplt.ylabel('number of galaxies')\nplt.show()"
      ]
    }
  ],
  "metadata": {
    "kernelspec": {
      "display_name": "Python 3",
      "language": "python",
      "name": "python3"
    },
    "language_info": {
      "codemirror_mode": {
        "name": "ipython",
        "version": 3
      },
      "file_extension": ".py",
      "mimetype": "text/x-python",
      "name": "python",
      "nbconvert_exporter": "python",
      "pygments_lexer": "ipython3",
      "version": "3.8.16"
    }
  },
  "nbformat": 4,
  "nbformat_minor": 0
}