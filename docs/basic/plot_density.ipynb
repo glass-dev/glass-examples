{
  "cells": [
    {
      "cell_type": "markdown",
      "metadata": {},
      "source": [
        "\n# Galaxy distribution\n\nThis example simulates a matter-only light cone up to redshift 1 and samples\ngalaxies from a uniform distribution in redshift.  The results are shown in a\npseudo-3D plot.\n"
      ]
    },
    {
      "cell_type": "markdown",
      "metadata": {},
      "source": [
        "## Setup\nSet up a galaxy positions-only GLASS simulation.  It matches the definition\nfrom the :doc:`/basic/shells` example, so that the pre-computed angular matter\npower spectra can be used here.\n\n"
      ]
    },
    {
      "cell_type": "code",
      "execution_count": null,
      "metadata": {
        "collapsed": false
      },
      "outputs": [],
      "source": [
        "import numpy as np\nimport matplotlib.pyplot as plt\nfrom matplotlib.colors import LogNorm\n\n# use the CAMB cosmology that generated the matter power spectra\nimport camb\nfrom cosmology import Cosmology\n\n# GLASS imports: matter, random fields, random points, galaxies\nimport glass.shells\nimport glass.fields\nimport glass.points\nimport glass.galaxies\n\n\n# cosmology for the simulation\nh = 0.7\nOc = 0.25\nOb = 0.05\n\n# basic parameters of the simulation\nnside = lmax = 128\n\n# set up CAMB parameters for matter angular power spectrum\npars = camb.set_params(H0=100*h, omch2=Oc*h**2, ombh2=Ob*h**2,\n                       NonLinear=camb.model.NonLinear_both)\n\n# get the cosmology from CAMB\ncosmo = Cosmology.from_camb(pars)\n\n# shells of 200 Mpc in comoving distance spacing\nzb = glass.shells.distance_grid(cosmo, 0., 1., dx=200.)\n\n# uniform matter weight function\nws = glass.shells.tophat_windows(zb)\n\n# load the angular matter power spectra previously computed with CAMB\ncls = np.load('cls.npy')"
      ]
    },
    {
      "cell_type": "markdown",
      "metadata": {},
      "source": [
        "## Matter\n\n"
      ]
    },
    {
      "cell_type": "code",
      "execution_count": null,
      "metadata": {
        "collapsed": false
      },
      "outputs": [],
      "source": [
        "# compute Gaussian cls for lognormal fields for 3 correlated shells\ngls = glass.fields.lognormal_gls(cls, nside=nside, lmax=lmax, ncorr=3)\n\n# generator for lognormal matter fields\nmatter = glass.fields.generate_lognormal(gls, nside, ncorr=3)"
      ]
    },
    {
      "cell_type": "markdown",
      "metadata": {},
      "source": [
        "## Galaxies\n\n"
      ]
    },
    {
      "cell_type": "code",
      "execution_count": null,
      "metadata": {
        "collapsed": false
      },
      "outputs": [],
      "source": [
        "# constant galaxy density distribution\nz = np.linspace(0., 1., 100)\ndndz = np.full_like(z, 0.01)"
      ]
    },
    {
      "cell_type": "markdown",
      "metadata": {},
      "source": [
        "## Simulation\nThe goal of this example is to make a 3D cube of the sampled galaxy numbers.\nA redshift cube is initialised with zero counts, and the simulation is run.\nFor every shell in the light cone, the galaxies are counted in the cube.\n\n"
      ]
    },
    {
      "cell_type": "code",
      "execution_count": null,
      "metadata": {
        "collapsed": false
      },
      "outputs": [],
      "source": [
        "# make a cube for galaxy number in redshift\nzcub = np.linspace(-zb[-1], zb[-1], 21)\ncube = np.zeros((zcub.size-1,)*3)\n\n# simulate and add galaxies in each matter shell to cube\nfor i, delta_i in enumerate(matter):\n\n    # restrict galaxy distribution to this shell\n    z_i, dndz_i = glass.shells.restrict(z, dndz, ws[i])\n\n    # compute galaxy density in this shell\n    ngal = np.trapz(dndz_i, z_i)\n\n    # simulate positions from matter density\n    for gal_lon, gal_lat, gal_count in glass.points.positions_from_delta(ngal, delta_i):\n\n        # sample redshifts uniformly in shell\n        gal_z = glass.galaxies.redshifts_from_nz(gal_count, ws[i].za, ws[i].wa)\n\n        # add counts to cube\n        z1 = gal_z*np.cos(np.deg2rad(gal_lon))*np.cos(np.deg2rad(gal_lat))\n        z2 = gal_z*np.sin(np.deg2rad(gal_lon))*np.cos(np.deg2rad(gal_lat))\n        z3 = gal_z*np.sin(np.deg2rad(gal_lat))\n        (i, j, k), c = np.unique(np.searchsorted(zcub[1:], [z1, z2, z3]), axis=1, return_counts=True)\n        cube[i, j, k] += c"
      ]
    },
    {
      "cell_type": "markdown",
      "metadata": {},
      "source": [
        "## Visualisation\nLastly, make a pseudo-3D plot by stacking a number of density slices on top of\neach other.\n\n"
      ]
    },
    {
      "cell_type": "code",
      "execution_count": null,
      "metadata": {
        "collapsed": false
      },
      "outputs": [],
      "source": [
        "# positions of grid cells of the cube\nz = (zcub[:-1] + zcub[1:])/2\nz1, z2, z3 = np.meshgrid(z, z, z)\n\n# plot the galaxy distribution in pseudo-3D\nfig = plt.figure()\nax = fig.add_subplot(111, projection='3d', proj_type='ortho')\nnorm = LogNorm(vmin=np.min(cube[cube > 0]), vmax=np.max(cube), clip=True)\nfor i in range(len(zcub)-1):\n    v = norm(cube[..., i])\n    c = plt.cm.inferno(v)\n    c[..., -1] = 0.2*v\n    ax.plot_surface(z1[..., i], z2[..., i], z3[..., i], rstride=1, cstride=1,\n                    facecolors=c, linewidth=0, shade=False, antialiased=False)\nfig.tight_layout()\nplt.show()"
      ]
    }
  ],
  "metadata": {
    "kernelspec": {
      "display_name": "Python 3",
      "language": "python",
      "name": "python3"
    },
    "language_info": {
      "codemirror_mode": {
        "name": "ipython",
        "version": 3
      },
      "file_extension": ".py",
      "mimetype": "text/x-python",
      "name": "python",
      "nbconvert_exporter": "python",
      "pygments_lexer": "ipython3",
      "version": "3.8.16"
    }
  },
  "nbformat": 4,
  "nbformat_minor": 0
}