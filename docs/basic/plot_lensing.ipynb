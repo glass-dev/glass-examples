{
  "cells": [
    {
      "cell_type": "markdown",
      "metadata": {},
      "source": [
        "\n# Weak lensing\n\nThis example computes weak lensing maps (convergence and shear) for a redshift\ndistribution of sources.  The lensing is simulated by a line of sight\nintegration of the matter fields.\n"
      ]
    },
    {
      "cell_type": "markdown",
      "metadata": {},
      "source": [
        "## Setup\n\nSimulate the matter fields, and use them to iteratively compute the lensing\nfields.\n\nTo obtain the effective integrated lensing maps of a distribution of sources,\nthe fields from each plane are collected and added with their respective\nweights.\n\nThe precomputed angular matter power spectra from the :doc:`/basic/shells`\nexample are used, so the simulation is set up in the same way.  CAMB is also\nused further below to compute the theory lensing spectra.\n\n"
      ]
    },
    {
      "cell_type": "code",
      "execution_count": null,
      "metadata": {
        "collapsed": false
      },
      "outputs": [],
      "source": [
        "import numpy as np\nimport healpy as hp\nimport matplotlib.pyplot as plt\n\n# use the CAMB cosmology that generated the matter power spectra\nimport camb\nfrom cosmology import Cosmology\n\n# GLASS imports\nimport glass.shells\nimport glass.fields\nimport glass.lensing\nimport glass.galaxies\n\n\n# cosmology for the simulation\nh = 0.7\nOc = 0.25\nOb = 0.05\n\n# basic parameters of the simulation\nnside = lmax = 256\n\n# set up CAMB parameters for matter angular power spectrum\npars = camb.set_params(H0=100*h, omch2=Oc*h**2, ombh2=Ob*h**2,\n                       NonLinear=camb.model.NonLinear_both)\n\n# get the cosmology from CAMB\ncosmo = Cosmology.from_camb(pars)\n\n# shells of 200 Mpc in comoving distance spacing\nzb = glass.shells.distance_grid(cosmo, 0., 1., dx=200.)\n\n# uniform matter weight function\nws = glass.shells.tophat_windows(zb)\n\n# load the angular matter power spectra previously computed with CAMB\ncls = np.load('cls.npy')"
      ]
    },
    {
      "cell_type": "markdown",
      "metadata": {},
      "source": [
        "## Matter\n\n"
      ]
    },
    {
      "cell_type": "code",
      "execution_count": null,
      "metadata": {
        "collapsed": false
      },
      "outputs": [],
      "source": [
        "# compute Gaussian cls for lognormal fields for 3 correlated shells\n# putting nside here means that the HEALPix pixel window function is applied\ngls = glass.fields.lognormal_gls(cls, nside=nside, lmax=lmax, ncorr=3)\n\n# generator for lognormal matter fields\nmatter = glass.fields.generate_lognormal(gls, nside, ncorr=3)"
      ]
    },
    {
      "cell_type": "markdown",
      "metadata": {},
      "source": [
        "## Lensing\n\n"
      ]
    },
    {
      "cell_type": "code",
      "execution_count": null,
      "metadata": {
        "collapsed": false
      },
      "outputs": [],
      "source": [
        "# this will compute the convergence field iteratively\nconvergence = glass.lensing.MultiPlaneConvergence(cosmo)"
      ]
    },
    {
      "cell_type": "markdown",
      "metadata": {},
      "source": [
        "## Galaxy\n\n"
      ]
    },
    {
      "cell_type": "code",
      "execution_count": null,
      "metadata": {
        "collapsed": false
      },
      "outputs": [],
      "source": [
        "# localised redshift distribution\n# the actual density per arcmin2 does not matter here, it is never used\nz = np.linspace(0, 1, 101)\ndndz = np.exp(-(z - 0.5)**2/(0.1)**2)"
      ]
    },
    {
      "cell_type": "markdown",
      "metadata": {},
      "source": [
        "## Simulation\nThe simulation is then straightforward:  Compute the lensing fields for each\nshell and add them up using the galaxy densities as a weight.\n\n"
      ]
    },
    {
      "cell_type": "code",
      "execution_count": null,
      "metadata": {
        "collapsed": false
      },
      "outputs": [],
      "source": [
        "# the integrated convergence and shear field over the redshift distribution\nkappa_bar = np.zeros(12*nside**2)\ngamm1_bar = np.zeros(12*nside**2)\ngamm2_bar = np.zeros(12*nside**2)\n\n# main loop to simulate the matter fields iterative\nfor i, delta_i in enumerate(matter):\n\n    # add lensing plane from the window function of this shell\n    convergence.add_window(delta_i, ws[i])\n\n    # get convergence field\n    kappa_i = convergence.kappa\n\n    # compute shear field\n    gamm1_i, gamm2_i = glass.lensing.shear_from_convergence(kappa_i)\n\n    # get the restriction of the dndz to this shell\n    z_i, dndz_i = glass.shells.restrict(z, dndz, ws[i])\n\n    # compute the galaxy density in this shell\n    ngal = np.trapz(dndz_i, z_i)\n\n    # add to mean fields using the galaxy number density as weight\n    kappa_bar += ngal * kappa_i\n    gamm1_bar += ngal * gamm1_i\n    gamm2_bar += ngal * gamm2_i\n\n# compute the overall galaxy density\nngal = np.trapz(dndz, z)\n\n# normalise mean fields by the total galaxy number density\nkappa_bar /= np.sum(ngal)\ngamm1_bar /= np.sum(ngal)\ngamm2_bar /= np.sum(ngal)"
      ]
    },
    {
      "cell_type": "markdown",
      "metadata": {},
      "source": [
        "## Analysis\nTo make sure the simulation works, compute the angular power spectrum of the\nsimulated convergence field, and compare with the expectation (from CAMB) for\nthe given redshift distribution of sources.\n\nWe are not doing the modelling very carefully here, so a bit of discrepancy is\nto be expected.\n\n"
      ]
    },
    {
      "cell_type": "code",
      "execution_count": null,
      "metadata": {
        "collapsed": false
      },
      "outputs": [],
      "source": [
        "# get the angular power spectra of the lensing maps\nsim_cls = hp.anafast([kappa_bar, gamm1_bar, gamm2_bar],\n                     pol=True, lmax=lmax, use_pixel_weights=True)\n\n# get the expected cls from CAMB\npars.min_l = 1\npars.set_for_lmax(lmax)\npars.SourceWindows = [camb.sources.SplinedSourceWindow(z=z, W=dndz, source_type='lensing')]\ntheory_cls = camb.get_results(pars).get_source_cls_dict(lmax=lmax, raw_cl=True)\n\n# get the HEALPix pixel window function, since the lensing fields have it\npw = hp.pixwin(nside, lmax=lmax)\n\n# plot the realised and expected cls\nl = np.arange(lmax+1)\nplt.plot(l, sim_cls[0], '-k', lw=2, label='simulation')\nplt.plot(l, theory_cls['W1xW1']*pw**2, '-r', lw=1, label='expectation')\nplt.xscale('symlog', linthresh=10, linscale=0.5, subs=[2, 3, 4, 5, 6, 7, 8, 9])\nplt.yscale('symlog', linthresh=1e-9, linscale=0.5, subs=[2, 3, 4, 5, 6, 7, 8, 9])\nplt.xlabel(r'angular mode number $l$')\nplt.ylabel(r'angular power spectrum $C_l^{\\kappa\\kappa}$')\nplt.legend(frameon=False)\nplt.show()"
      ]
    }
  ],
  "metadata": {
    "kernelspec": {
      "display_name": "Python 3",
      "language": "python",
      "name": "python3"
    },
    "language_info": {
      "codemirror_mode": {
        "name": "ipython",
        "version": 3
      },
      "file_extension": ".py",
      "mimetype": "text/x-python",
      "name": "python",
      "nbconvert_exporter": "python",
      "pygments_lexer": "ipython3",
      "version": "3.8.16"
    }
  },
  "nbformat": 4,
  "nbformat_minor": 0
}